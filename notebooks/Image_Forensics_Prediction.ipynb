{
 "cells": [
  {
   "cell_type": "code",
   "execution_count": 4,
   "metadata": {},
   "outputs": [
    {
     "name": "stdout",
     "output_type": "stream",
     "text": [
      "\u001b[1m1/1\u001b[0m \u001b[32m━━━━━━━━━━━━━━━━━━━━\u001b[0m\u001b[37m\u001b[0m \u001b[1m0s\u001b[0m 105ms/step\n",
      "Predicted Class: Fake, Confidence: 0.95\n"
     ]
    }
   ],
   "source": [
    "import tensorflow as tf\n",
    "from tensorflow.keras.models import load_model\n",
    "from PIL import Image\n",
    "import numpy as np\n",
    "\n",
    "# Load the trained model\n",
    "model = load_model('../model/image_forensics_model.keras')\n",
    "\n",
    "def preprocess_image(image_path):\n",
    "    \"\"\"Preprocess the image to be compatible with the model.\"\"\"\n",
    "    image = Image.open(image_path)\n",
    "    image = image.resize((256, 256))\n",
    "    image = np.array(image) / 255.0\n",
    "    image = np.expand_dims(image, axis=0)  # Add batch dimension\n",
    "    return image\n",
    "\n",
    "def predict_image(model, image_path):\n",
    "    \"\"\"Make a prediction on a single image and return the class and confidence.\"\"\"\n",
    "    image = preprocess_image(image_path)\n",
    "    prediction = model.predict(image)\n",
    "    class_labels = ['Real', 'Fake']\n",
    "    predicted_class = class_labels[np.argmax(prediction)]\n",
    "    confidence = np.max(prediction)\n",
    "    return predicted_class, confidence\n",
    "\n",
    "# Example usage:\n",
    "image_path = \"/mnt/d/Datasets/casia/CASIA1/Sp/Sp_D_NRN_A_arc0007_ani0015_0446.jpg\"\n",
    "predicted_class, confidence = predict_image(model, image_path)\n",
    "print(f\"Predicted Class: {predicted_class}, Confidence: {confidence:.2f}\")\n"
   ]
  }
 ],
 "metadata": {
  "kernelspec": {
   "display_name": "py31",
   "language": "python",
   "name": "python3"
  },
  "language_info": {
   "codemirror_mode": {
    "name": "ipython",
    "version": 3
   },
   "file_extension": ".py",
   "mimetype": "text/x-python",
   "name": "python",
   "nbconvert_exporter": "python",
   "pygments_lexer": "ipython3",
   "version": "3.11.9"
  }
 },
 "nbformat": 4,
 "nbformat_minor": 2
}
